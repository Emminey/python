{
 "cells": [
  {
   "cell_type": "code",
   "execution_count": 48,
   "metadata": {},
   "outputs": [
    {
     "data": {
      "text/plain": [
       "(100,)"
      ]
     },
     "execution_count": 48,
     "metadata": {},
     "output_type": "execute_result"
    }
   ],
   "source": [
    "import numpy as np\n",
    "import matplotlib.pyplot as plt\n",
    "from scipy.integrate import odeint\n",
    "def model(y,x):\n",
    "    dydx=-x/y\n",
    "    return dydx\n",
    "y0=-3\n",
    "\n",
    "x=np.linspace(4,5,100,endpoint=False)\n",
    "\n",
    "y=odeint(model,y0,x)\n",
    "y=y.reshape(100,)\n",
    "y.shape"
   ]
  },
  {
   "cell_type": "code",
   "execution_count": 45,
   "metadata": {},
   "outputs": [
    {
     "data": {
      "text/plain": [
       "(100,)"
      ]
     },
     "execution_count": 45,
     "metadata": {},
     "output_type": "execute_result"
    }
   ],
   "source": [
    "def RK4OdeSys(f,c,t):\n",
    "    H = t[1] - t[0]\n",
    "    n = len(t)\n",
    "    z = np.zeros(n)\n",
    "    z[0] = c\n",
    "    for k in range(0,n-1):\n",
    "        k1 = f(z[k],t[k])\n",
    "        k2 = f(z[k] + H*(k1/2),t[k]+ H/2)\n",
    "        k3 = f(z[k] + H*(k2/2),t[k]+ H/2)\n",
    "        k4 = f(z[k] + H*k3,t[k]+ H)\n",
    "        z[k+1] = z[k] + (H/6)*(k1 + 2*k2 + 2*k3 + k4)\n",
    "    return z\n",
    "p.shape"
   ]
  },
  {
   "cell_type": "code",
   "execution_count": 51,
   "metadata": {},
   "outputs": [
    {
     "data": {
      "image/png": "[encoded data removed]",
      "text/plain": [
       "<Figure size 432x288 with 1 Axes>"
      ]
     },
     "metadata": {
      "needs_background": "light"
     },
     "output_type": "display_data"
    }
   ],
   "source": [
    "a=4\n",
    "b=5\n",
    "N=200\n",
    "f=lambda x: -np.sqrt(25-x**2)\n",
    "z = f(x)\n",
    "e_y = abs(z - y)\n",
    "p= RK4OdeSys(model,y0,x)\n",
    "# p=p.reshape(100,)\n",
    "e_p = abs(p - z)\n",
    "\n",
    "\n",
    "plt.plot(x[::5],e_y[::5],'b*')\n",
    "plt.plot(x,e_p,'r')\n",
    "plt.title('the absolute error on both approximate solutions')\n",
    "plt.xlabel('x')\n",
    "plt.ylabel('Errors')\n",
    "plt.legend(['Error odeint','Error RungeKutta'])\n",
    "plt.show()"
   ]
  },
  {
   "cell_type": "code",
   "execution_count": null,
   "metadata": {},
   "outputs": [],
   "source": []
  },
  {
   "cell_type": "code",
   "execution_count": null,
   "metadata": {},
   "outputs": [],
   "source": []
  }
 ],
 "metadata": {
  "kernelspec": {
   "display_name": "Python 3",
   "language": "python",
   "name": "python3"
  },
  "language_info": {
   "codemirror_mode": {
    "name": "ipython",
    "version": 3
   },
   "file_extension": ".py",
   "mimetype": "text/x-python",
   "name": "python",
   "nbconvert_exporter": "python",
   "pygments_lexer": "ipython3",
   "version": "3.7.3"
  }
 },
 "nbformat": 4,
 "nbformat_minor": 2
}
